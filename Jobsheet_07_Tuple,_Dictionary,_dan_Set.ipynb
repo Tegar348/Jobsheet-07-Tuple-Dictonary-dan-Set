{
  "nbformat": 4,
  "nbformat_minor": 0,
  "metadata": {
    "colab": {
      "provenance": [],
      "authorship_tag": "ABX9TyNmxSe7BWsDLptB+NFFdhox",
      "include_colab_link": true
    },
    "kernelspec": {
      "name": "python3",
      "display_name": "Python 3"
    },
    "language_info": {
      "name": "python"
    }
  },
  "cells": [
    {
      "cell_type": "markdown",
      "metadata": {
        "id": "view-in-github",
        "colab_type": "text"
      },
      "source": [
        "<a href=\"https://colab.research.google.com/github/Tegar348/Jobsheet-07-Tuple-Dictonary-dan-Set/blob/main/Jobsheet_07_Tuple%2C_Dictionary%2C_dan_Set.ipynb\" target=\"_parent\"><img src=\"https://colab.research.google.com/assets/colab-badge.svg\" alt=\"Open In Colab\"/></a>"
      ]
    },
    {
      "cell_type": "markdown",
      "source": [
        "#Praktikum 01: Tuple: Data tetap yang Tidak Bisa Diubah"
      ],
      "metadata": {
        "id": "iwIzIiwbloeO"
      }
    },
    {
      "cell_type": "code",
      "execution_count": null,
      "metadata": {
        "colab": {
          "base_uri": "https://localhost:8080/"
        },
        "id": "vOGinNbSkMPc",
        "outputId": "b157f65c-3c29-4025-a64c-621861a97bf2"
      },
      "outputs": [
        {
          "output_type": "stream",
          "name": "stdout",
          "text": [
            "Lintang: 7.05\n",
            "Bujur: 110.44\n"
          ]
        }
      ],
      "source": [
        "koordinat = (7.05, 110.44)\n",
        "print(\"Lintang:\", koordinat[0])\n",
        "print(\"Bujur:\", koordinat[1])"
      ]
    },
    {
      "cell_type": "markdown",
      "source": [
        "#Praktikum 02: Dictionary Dasar: Menyimpan Data Mahasiswa"
      ],
      "metadata": {
        "id": "_2FyJB7RmJti"
      }
    },
    {
      "cell_type": "code",
      "source": [
        "mahasiswa = {\n",
        "    \"NIM\": \"20251001\",\n",
        "    \"Nama\": \"Andi\",\n",
        "    \"Prodi\": \"TRK\"\n",
        "}\n",
        "\n",
        "print(\"NIM: \", mahasiswa[\"NIM\"])\n",
        "print(\"Nama: \", mahasiswa[\"Nama\"])\n",
        "print(\"Prodi: \", mahasiswa[\"Prodi\"])"
      ],
      "metadata": {
        "colab": {
          "base_uri": "https://localhost:8080/"
        },
        "id": "inzTaRjcmExB",
        "outputId": "942e3572-2990-45a0-de72-54c7e99571e4"
      },
      "execution_count": null,
      "outputs": [
        {
          "output_type": "stream",
          "name": "stdout",
          "text": [
            "NIM:  20251001\n",
            "Nama:  Andi\n",
            "Prodi:  TRK\n"
          ]
        }
      ]
    },
    {
      "cell_type": "markdown",
      "source": [
        "#Praktikum 03: Operasi pada Dictionary"
      ],
      "metadata": {
        "id": "e5HIws8em9FD"
      }
    },
    {
      "cell_type": "code",
      "source": [
        "mahasiswa = {\n",
        "    \"NIM\": \"20251001\",\n",
        "    \"Nama\": \"Andi\",\n",
        "    \"Prodi\": \"TRK\"\n",
        "}\n",
        "\n",
        "mahasiswa [\"Umur\"] = 20                   #menambah data\n",
        "mahasiswa [\"Prodi\"] = \"Teknik Komputer\"   #memperbarui data\n",
        "del mahasiswa [\"Umur\"]                    #menghapus data\n",
        "\n",
        "print(mahasiswa)"
      ],
      "metadata": {
        "colab": {
          "base_uri": "https://localhost:8080/"
        },
        "id": "D_AA4ur4m4k6",
        "outputId": "3b8261ff-d58b-403d-8adb-6431749c3801"
      },
      "execution_count": null,
      "outputs": [
        {
          "output_type": "stream",
          "name": "stdout",
          "text": [
            "{'NIM': '20251001', 'Nama': 'Andi', 'Prodi': 'Teknik Komputer'}\n"
          ]
        }
      ]
    },
    {
      "cell_type": "markdown",
      "source": [
        "#Praktikum 04: Set dan Operasi Himpunan"
      ],
      "metadata": {
        "id": "cL-lZF3QojKi"
      }
    },
    {
      "cell_type": "code",
      "source": [
        "A = {1, 2, 3, 4}\n",
        "B = {3, 4, 5, 6}\n",
        "\n",
        "print(\"Union: \", A | B)         #Gabungan U\n",
        "print(\"Intersection: \", A & B)  #Irisan ∩\n",
        "print(\"Difference: \", A - B)    #Selisih\n",
        "print(\"Difference: \", B - A)    #Selisih"
      ],
      "metadata": {
        "colab": {
          "base_uri": "https://localhost:8080/"
        },
        "id": "2qJy1hkrntFA",
        "outputId": "7fe7b521-79a3-4950-b501-929d9cfea9d7"
      },
      "execution_count": 24,
      "outputs": [
        {
          "output_type": "stream",
          "name": "stdout",
          "text": [
            "Union:  {1, 2, 3, 4, 5, 6}\n",
            "Intersection:  {3, 4}\n",
            "Difference:  {1, 2}\n",
            "Difference:  {5, 6}\n"
          ]
        }
      ]
    },
    {
      "cell_type": "markdown",
      "source": [
        "#Praktikum 05: Studi Kasus: Data Mahasiswa dan Mata Kuliah"
      ],
      "metadata": {
        "id": "5_TN_PlJqDXh"
      }
    },
    {
      "cell_type": "code",
      "source": [
        "mhs1 = {\"Algoritma\", \"Matematika\", \"Bahasa Inggris\"}\n",
        "mhs2 = {\"Algoritma\", \"Basis Data\", \"Matematika\"}\n",
        "\n",
        "print(\"Mata kuliah Mhs1:\", mhs1)\n",
        "print(\"Mata kuliah Mhs2:\", mhs2)\n",
        "print(\"Mata kuliah yang sama:\", mhs1 & mhs2)"
      ],
      "metadata": {
        "colab": {
          "base_uri": "https://localhost:8080/"
        },
        "id": "DdKgFlqnpAgO",
        "outputId": "8eb7e710-cd74-4323-9566-ae5f8f45976f"
      },
      "execution_count": null,
      "outputs": [
        {
          "output_type": "stream",
          "name": "stdout",
          "text": [
            "Mata kuliah Mhs1: {'Bahasa Inggris', 'Algoritma', 'Matematika'}\n",
            "Mata kuliah Mhs2: {'Basis Data', 'Algoritma', 'Matematika'}\n",
            "Mata kuliah yang sama: {'Algoritma', 'Matematika'}\n"
          ]
        }
      ]
    },
    {
      "cell_type": "markdown",
      "source": [
        "#Praktikum 06: Studi Kasus Dictionary: Daftar Nilai Mahasiswa"
      ],
      "metadata": {
        "id": "Sa0QeFvvsLEc"
      }
    },
    {
      "cell_type": "code",
      "source": [
        "nilai_mahasiswa = {\n",
        "    \"Andi\": 80,\n",
        "    \"Budi\": 75,\n",
        "    \"Cici\": 90\n",
        "}\n",
        "\n",
        "for nama, nilai in nilai_mahasiswa.items():\n",
        "    print(f\"{nama}: {nilai}\")\n",
        "\n",
        "rata = sum(nilai_mahasiswa.values()) / len(nilai_mahasiswa)\n",
        "print(f\"Rata-rata nilai: {rata:.2f}\")"
      ],
      "metadata": {
        "colab": {
          "base_uri": "https://localhost:8080/"
        },
        "id": "UhJoaosmqx6w",
        "outputId": "f3ca8693-33f5-47ab-cb76-8e9c409c740d"
      },
      "execution_count": null,
      "outputs": [
        {
          "output_type": "stream",
          "name": "stdout",
          "text": [
            "Andi: 80\n",
            "Budi: 75\n",
            "Cici: 90\n",
            "Rata-rata nilai: 81.67\n"
          ]
        }
      ]
    },
    {
      "cell_type": "markdown",
      "source": [
        "#Tugas No 03: Tuple Sederhana"
      ],
      "metadata": {
        "id": "eVMKAq5-SKng"
      }
    },
    {
      "cell_type": "code",
      "source": [
        "mahasiswa = (\"Tegar\", 17, \"TRK\")\n",
        "\n",
        "print(mahasiswa[0])\n",
        "print(mahasiswa[1])\n",
        "print(mahasiswa[2])"
      ],
      "metadata": {
        "colab": {
          "base_uri": "https://localhost:8080/"
        },
        "id": "etSTrZqlykTF",
        "outputId": "1a649f99-2622-4a27-c065-b4607ac6347a"
      },
      "execution_count": 5,
      "outputs": [
        {
          "output_type": "stream",
          "name": "stdout",
          "text": [
            "Tegar\n",
            "17\n",
            "TRK\n"
          ]
        }
      ]
    },
    {
      "cell_type": "markdown",
      "source": [
        "#Tugas No 04: Tuple Tidak Bisa Diubah"
      ],
      "metadata": {
        "id": "HAT89MkmzY4G"
      }
    },
    {
      "cell_type": "code",
      "source": [
        "angka = (1, 2, 3)\n",
        "\n",
        "e = angka[1] = 4\n",
        "print(e)"
      ],
      "metadata": {
        "colab": {
          "base_uri": "https://localhost:8080/",
          "height": 193
        },
        "id": "0gTz3-Vty-jM",
        "outputId": "c6cdb182-f3f8-421f-a052-88a640814f2b"
      },
      "execution_count": 11,
      "outputs": [
        {
          "output_type": "error",
          "ename": "TypeError",
          "evalue": "'tuple' object does not support item assignment",
          "traceback": [
            "\u001b[0;31m---------------------------------------------------------------------------\u001b[0m",
            "\u001b[0;31mTypeError\u001b[0m                                 Traceback (most recent call last)",
            "\u001b[0;32m/tmp/ipython-input-3671791328.py\u001b[0m in \u001b[0;36m<cell line: 0>\u001b[0;34m()\u001b[0m\n\u001b[1;32m      1\u001b[0m \u001b[0mangka\u001b[0m \u001b[0;34m=\u001b[0m \u001b[0;34m(\u001b[0m\u001b[0;36m1\u001b[0m\u001b[0;34m,\u001b[0m \u001b[0;36m2\u001b[0m\u001b[0;34m,\u001b[0m \u001b[0;36m3\u001b[0m\u001b[0;34m)\u001b[0m\u001b[0;34m\u001b[0m\u001b[0;34m\u001b[0m\u001b[0m\n\u001b[1;32m      2\u001b[0m \u001b[0;34m\u001b[0m\u001b[0m\n\u001b[0;32m----> 3\u001b[0;31m \u001b[0me\u001b[0m \u001b[0;34m=\u001b[0m \u001b[0mangka\u001b[0m\u001b[0;34m[\u001b[0m\u001b[0;36m1\u001b[0m\u001b[0;34m]\u001b[0m \u001b[0;34m=\u001b[0m \u001b[0;36m4\u001b[0m\u001b[0;34m\u001b[0m\u001b[0;34m\u001b[0m\u001b[0m\n\u001b[0m\u001b[1;32m      4\u001b[0m \u001b[0mprint\u001b[0m\u001b[0;34m(\u001b[0m\u001b[0me\u001b[0m\u001b[0;34m)\u001b[0m\u001b[0;34m\u001b[0m\u001b[0;34m\u001b[0m\u001b[0m\n",
            "\u001b[0;31mTypeError\u001b[0m: 'tuple' object does not support item assignment"
          ]
        }
      ]
    },
    {
      "cell_type": "markdown",
      "source": [
        "#Tugas No 05: Dictionary Dasar"
      ],
      "metadata": {
        "id": "E_5SKk2D1KCR"
      }
    },
    {
      "cell_type": "code",
      "source": [
        "buku = {\n",
        "    \"Judul\": \"Algoritma\",\n",
        "    \"Penulis\": \"Munir\",\n",
        "    \"Tahun\": 2021\n",
        "}\n",
        "\n",
        "print(\"Judul: \", buku[\"Judul\"])\n",
        "print(\"Penulis: \", buku[\"Penulis\"])\n",
        "print(\"Tahun: \", buku[\"Tahun\"])"
      ],
      "metadata": {
        "colab": {
          "base_uri": "https://localhost:8080/"
        },
        "id": "skVM5EfI1Rt5",
        "outputId": "764bbbb6-f9b3-4b3a-bdde-d420610b36eb"
      },
      "execution_count": 13,
      "outputs": [
        {
          "output_type": "stream",
          "name": "stdout",
          "text": [
            "Judul:  Algoritma\n",
            "Penulis:  Munir\n",
            "Tahun:  2021\n"
          ]
        }
      ]
    },
    {
      "cell_type": "markdown",
      "source": [
        "#Tugas No 06: Operasi Dictionary"
      ],
      "metadata": {
        "id": "-L3-O1GN2DZ6"
      }
    },
    {
      "cell_type": "code",
      "source": [
        "data_dosen = {\n",
        "    \"NIP\": \"12345\",\n",
        "    \"Nama\": \"Budi\",\n",
        "    \"Prodi\": \"TRK\"\n",
        "}\n",
        "\n",
        "data_dosen [\"Umur\"] = 40                  #Menambahkan data\n",
        "data_dosen [\"Prodi\"] = \"Teknik Komputer\"  #Memperbarui data\n",
        "del data_dosen [\"Umur\"]                   #Menghapus data\n",
        "print(data_dosen)"
      ],
      "metadata": {
        "colab": {
          "base_uri": "https://localhost:8080/"
        },
        "id": "o6e-TraI13v2",
        "outputId": "8dc195d3-7eef-48f3-f774-b79ece9d716c"
      },
      "execution_count": 21,
      "outputs": [
        {
          "output_type": "stream",
          "name": "stdout",
          "text": [
            "{'NIP': '12345', 'Nama': 'Budi', 'Prodi': 'Teknik Komputer'}\n"
          ]
        }
      ]
    },
    {
      "cell_type": "markdown",
      "source": [
        "#Tugas No 07: Set dan Himpunan"
      ],
      "metadata": {
        "id": "cU5qJpUi4Dds"
      }
    },
    {
      "cell_type": "code",
      "source": [
        "A = {\"Matematika\", \"Algoritma\", \"Bahasa Inggris\"}\n",
        "B = {\"Algoritma\", \"Basis Data\", \"Matematika\"}\n",
        "\n",
        "print(\"Union: \", A | B)\n",
        "print(\"Intersection: \", A & B)\n",
        "print(\"Difference: \", A - B)\n",
        "print(\"Difference: \", B - A)"
      ],
      "metadata": {
        "colab": {
          "base_uri": "https://localhost:8080/"
        },
        "id": "TJllEWkO34Gy",
        "outputId": "49488b59-10f4-48b6-d6f2-1ce8ff7cef17"
      },
      "execution_count": 23,
      "outputs": [
        {
          "output_type": "stream",
          "name": "stdout",
          "text": [
            "Union:  {'Algoritma', 'Basis Data', 'Bahasa Inggris', 'Matematika'}\n",
            "Intersection:  {'Algoritma', 'Matematika'}\n",
            "Difference:  {'Bahasa Inggris'}\n",
            "Difference:  {'Basis Data'}\n"
          ]
        }
      ]
    },
    {
      "cell_type": "markdown",
      "source": [
        "#Tugas No 08: Studi Kasus Dictionary"
      ],
      "metadata": {
        "id": "puJoycXM5qIu"
      }
    },
    {
      "cell_type": "code",
      "source": [
        "nilai_mahasiswa = {\n",
        "    \"Andi\": 85,\n",
        "    \"Budi\": 90,\n",
        "    \"Cici\": 78\n",
        "}\n",
        "\n",
        "for nama, nilai in nilai_mahasiswa.items():\n",
        "    print(f\"{nama}: {nilai}\")\n",
        "\n",
        "rata = sum(nilai_mahasiswa.values()) / len(nilai_mahasiswa)\n",
        "print(f\"Rata-rata nilai: {rata:.2f}\")"
      ],
      "metadata": {
        "colab": {
          "base_uri": "https://localhost:8080/"
        },
        "id": "ZU_vht785MqU",
        "outputId": "bab65a9e-fa75-437f-ada9-38dd4fd0f8bd"
      },
      "execution_count": 27,
      "outputs": [
        {
          "output_type": "stream",
          "name": "stdout",
          "text": [
            "Andi: 85\n",
            "Budi: 90\n",
            "Cici: 78\n",
            "Rata-rata nilai: 84.33\n"
          ]
        }
      ]
    },
    {
      "cell_type": "markdown",
      "source": [
        "#Tugas No 09: Studi Kasus Set - Klub Mahasiswa"
      ],
      "metadata": {
        "id": "WpGC-XCq6lSe"
      }
    },
    {
      "cell_type": "code",
      "source": [
        "A = {\"Andi\", \"Budi\", \"Cici\"}\n",
        "B = {\"Cici\", \"Deni\", \"Eka\"}\n",
        "\n",
        "print(\"Daftar Seluruh Anggota: \", A | B)\n",
        "print(\"Daftar anggota yang ada di kedua Klub: \", A & B)\n",
        "print(\"Anggota yang hanya ada di Klub A tetapi tidak di Klub B: \", A - B)"
      ],
      "metadata": {
        "colab": {
          "base_uri": "https://localhost:8080/"
        },
        "id": "Nw7yhllt6Zbp",
        "outputId": "0416a08c-5336-43ac-8ef6-30919c94e4bf"
      },
      "execution_count": 34,
      "outputs": [
        {
          "output_type": "stream",
          "name": "stdout",
          "text": [
            "Daftar Seluruh Anggota:  {'Deni', 'Eka', 'Budi', 'Cici', 'Andi'}\n",
            "Daftar anggota yang ada di kedua Klub:  {'Cici'}\n",
            "Anggota yang hanya ada di Klub A tetapi tidak di Klub B:  {'Budi', 'Andi'}\n"
          ]
        }
      ]
    }
  ]
}